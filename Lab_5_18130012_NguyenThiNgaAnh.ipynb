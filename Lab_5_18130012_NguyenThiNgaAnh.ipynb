{
  "nbformat": 4,
  "nbformat_minor": 0,
  "metadata": {
    "colab": {
      "provenance": [],
      "include_colab_link": true
    },
    "kernelspec": {
      "name": "python3",
      "display_name": "Python 3"
    },
    "language_info": {
      "name": "python"
    }
  },
  "cells": [
    {
      "cell_type": "markdown",
      "metadata": {
        "id": "view-in-github",
        "colab_type": "text"
      },
      "source": [
        "<a href=\"https://colab.research.google.com/github/PhanThyAn/Lab-2_MayHoc/blob/main/Lab_5_20130195_PhanThiAn.ipynb\" target=\"_parent\"><img src=\"https://colab.research.google.com/assets/colab-badge.svg\" alt=\"Open In Colab\"/></a>"
      ]
    },
    {
      "cell_type": "markdown",
      "source": [
        "# This lab is to deal with **SVM** to classification tasks and compare its performance with other competitive algorithms. In general, **SVM** is one of the most popular and widely used supervised machine learning algorithms.\n",
        "\n",
        "*   **Deadline: 23:59, 17/03/2023**\n",
        "\n"
      ],
      "metadata": {
        "id": "LMzehe0sy5wr"
      }
    },
    {
      "cell_type": "markdown",
      "source": [
        "# Import libraries"
      ],
      "metadata": {
        "id": "H4nJmxp9zGX4"
      }
    },
    {
      "cell_type": "code",
      "execution_count": 1,
      "metadata": {
        "id": "DoVWQ8AEyc-C",
        "colab": {
          "base_uri": "https://localhost:8080/"
        },
        "outputId": "58dff5a4-beaf-4d52-e81b-f881ddecb5fd"
      },
      "outputs": [
        {
          "output_type": "stream",
          "name": "stdout",
          "text": [
            "Mounted at /content/gdrive\n",
            "/content/gdrive/MyDrive/Lab_5\n"
          ]
        }
      ],
      "source": [
        "# code\n",
        "from google.colab import drive\n",
        "drive.mount('/content/gdrive')\n",
        "%cd '/content/gdrive/MyDrive/Lab_5'\n"
      ]
    },
    {
      "cell_type": "code",
      "source": [
        "from sklearn import svm\n",
        "import pandas as pd\n",
        "from sklearn.metrics import confusion_matrix\n",
        "from sklearn.metrics import ConfusionMatrixDisplay\n",
        "from sklearn.model_selection import train_test_split\n",
        "from sklearn.linear_model import LogisticRegression \n",
        "from sklearn.metrics import accuracy_score\n",
        "from sklearn.neighbors import KNeighborsClassifier\n",
        "from sklearn import metrics\n",
        "from sklearn import datasets\n",
        "from sklearn import tree"
      ],
      "metadata": {
        "id": "KBvd0NcvN7z5"
      },
      "execution_count": 18,
      "outputs": []
    },
    {
      "cell_type": "markdown",
      "source": [
        "#Task 1. \n",
        "For breast cancer dataset (https://tinyurl.com/3vme8hr3) which could be loaded from datasets in sklearn as follows:\n",
        "\n",
        "```\n",
        "#Import scikit-learn dataset library\n",
        "from sklearn import datasets\n",
        "\n",
        "#Load dataset\n",
        "cancer = datasets.load_breast_cancer()\n",
        "```\n",
        "\n",
        "*   1.1.\tApply SVM algorithm to above dataset using linear kernel.\n",
        "*   1.2.\tCompare the obtained results with other competitive algorithms (Logistic Regression, Decision Tree, kNN) based on metrics: accuracy, precision, recall, f1 measures.\n",
        "\n"
      ],
      "metadata": {
        "id": "kNv07ARGzOUm"
      }
    },
    {
      "cell_type": "code",
      "source": [
        "# code\n",
        "#Create a svm Classifier\n",
        "cancer = datasets.load_breast_cancer()\n",
        "X = cancer.data\n",
        "y = cancer.target\n",
        "X_train, X_test, y_train, y_test = train_test_split(X, y, test_size=0.3, random_state=0)\n",
        "clf = svm.SVC(kernel='linear') # Linear Kernel\n",
        "#Train the model using the training sets\n",
        "clf.fit(X_train, y_train)\n",
        "#Predict the response for test dataset\n",
        "y_pred = clf.predict(X_test)\n",
        "Accuracy = metrics.accuracy_score(y_test, y_pred)\n",
        "Precision = metrics.precision_score(y_test, y_pred)\n",
        "Recall = metrics.recall_score(y_test, y_pred) \n",
        "F1 = metrics.f1_score(y_test, y_pred)\n",
        "# print(metrics.confusion_matrix(y_test, y_pred))\n",
        "print(metrics.classification_report(y_test, y_pred))\n"
      ],
      "metadata": {
        "id": "sOsg77IBzEyo",
        "colab": {
          "base_uri": "https://localhost:8080/"
        },
        "outputId": "9a20766b-f7a1-4c61-84d0-e544b58ea476"
      },
      "execution_count": 12,
      "outputs": [
        {
          "output_type": "stream",
          "name": "stdout",
          "text": [
            "              precision    recall  f1-score   support\n",
            "\n",
            "           0       0.92      0.97      0.95        63\n",
            "           1       0.98      0.95      0.97       108\n",
            "\n",
            "    accuracy                           0.96       171\n",
            "   macro avg       0.95      0.96      0.96       171\n",
            "weighted avg       0.96      0.96      0.96       171\n",
            "\n"
          ]
        }
      ]
    },
    {
      "cell_type": "code",
      "source": [
        "\n",
        "classifier = LogisticRegression(random_state = 0) \n",
        "classifier.fit(X_train, y_train)\n",
        "\n",
        "y_pred = classifier.predict(X_test)\n",
        "Accuracy_Logistic = metrics.accuracy_score(y_test, y_pred)\n",
        "Precision_Logistic = metrics.precision_score(y_test, y_pred, average='macro')\n",
        "Recall_Logistic = metrics.recall_score(y_test, y_pred, average='macro') \n",
        "F1_Logistic = metrics.f1_score(y_test, y_pred,average='macro')\n",
        "print(metrics.classification_report(y_test, y_pred))"
      ],
      "metadata": {
        "id": "6EdKEdvupGpT"
      },
      "execution_count": null,
      "outputs": []
    },
    {
      "cell_type": "code",
      "source": [
        "\n",
        "decision_tree = tree.DecisionTreeClassifier(random_state=0)\n",
        "decision_tree.fit(X_train, y_train)\n",
        "y_pred = decision_tree.predict(X_test)\n",
        "Accuracy_Tree = metrics.accuracy_score(y_test, y_pred)\n",
        "Precision_Tree = metrics.precision_score(y_test, y_pred, average='macro')\n",
        "Recall_Tree = metrics.recall_score(y_test, y_pred, average='macro') \n",
        "F1_Tree = metrics.f1_score(y_test, y_pred,average='macro')\n",
        "print(metrics.classification_report(y_test, y_pred))"
      ],
      "metadata": {
        "id": "VRwzFwk1Vy_P"
      },
      "execution_count": null,
      "outputs": []
    },
    {
      "cell_type": "code",
      "source": [
        "k_range = range(1, 30, 2)\n",
        "accs =[ ]\n",
        "precision= [ ]\n",
        "recalls = []\n",
        "f1measure = [ ]\n",
        "for i in k_range:\n",
        "  kNM = KNeighborsClassifier(n_neighbors=i);\n",
        "  kNM.fit(X_train, y_train)\n",
        "  y_pred = kNM.predict(X_test)\n",
        "  accs.append(metrics.accuracy_score(y_test, y_pred))\n",
        "  precision.append(metrics.precision_score(y_test, y_pred, average='macro'))\n",
        "  recalls.append(metrics.recall_score(y_test, y_pred, average='macro'))\n",
        "  f1measure.append(metrics.f1_score(y_test, y_pred, average='macro'))\n",
        "print(metrics.classification_report(y_test, y_pred))"
      ],
      "metadata": {
        "colab": {
          "base_uri": "https://localhost:8080/"
        },
        "id": "g1LMU6ber3Fl",
        "outputId": "89b35b8f-dbed-4ce1-c70b-7e3450490ed8"
      },
      "execution_count": 17,
      "outputs": [
        {
          "output_type": "stream",
          "name": "stdout",
          "text": [
            "              precision    recall  f1-score   support\n",
            "\n",
            "           0       0.97      0.90      0.93        63\n",
            "           1       0.95      0.98      0.96       108\n",
            "\n",
            "    accuracy                           0.95       171\n",
            "   macro avg       0.96      0.94      0.95       171\n",
            "weighted avg       0.95      0.95      0.95       171\n",
            "\n"
          ]
        }
      ]
    },
    {
      "cell_type": "code",
      "source": [
        "d_Logistic = {'Accuracy': Accuracy_Logistic, 'Precision':Precision_Logistic, 'Recall':Recall_Logistic ,'F1':F1_Logistic}\n",
        "d_Tree = {'Accuracy': Accuracy_Tree, 'Precision':Precision_Tree, 'Recall':Recall_Tree ,'F1':F1_Tree}\n",
        "d_kNN = {'Accuracy': max(accs), 'Precision':max(precision), 'Recall':max(recalls) ,'F1':max(f1measure)}\n",
        "d_LinearKernel = {'Accuracy': Accuracy, 'Precision':Precision, 'Recall':Recall ,'F1':F1}\n",
        "pd.DataFrame({'Logistic':pd.Series(d_Logistic), 'Tree':pd.Series(d_Tree), 'kNN':pd.Series(d_kNN), 'LinearKernel': pd.Series(d_LinearKernel)})"
      ],
      "metadata": {
        "colab": {
          "base_uri": "https://localhost:8080/",
          "height": 175
        },
        "id": "K-xWI0z8sFpT",
        "outputId": "7c03ad1d-4739-439a-ec3a-108b60534ce2"
      },
      "execution_count": 19,
      "outputs": [
        {
          "output_type": "execute_result",
          "data": {
            "text/plain": [
              "           Logistic      Tree       kNN  LinearKernel\n",
              "Accuracy   0.953216  0.912281  0.964912      0.959064\n",
              "Precision  0.945608  0.901627  0.965425      0.980952\n",
              "Recall     0.956349  0.917328  0.958995      0.953704\n",
              "F1         0.950363  0.907724  0.962045      0.967136"
            ],
            "text/html": [
              "\n",
              "  <div id=\"df-d2f95108-1311-4733-b214-3697428625d9\">\n",
              "    <div class=\"colab-df-container\">\n",
              "      <div>\n",
              "<style scoped>\n",
              "    .dataframe tbody tr th:only-of-type {\n",
              "        vertical-align: middle;\n",
              "    }\n",
              "\n",
              "    .dataframe tbody tr th {\n",
              "        vertical-align: top;\n",
              "    }\n",
              "\n",
              "    .dataframe thead th {\n",
              "        text-align: right;\n",
              "    }\n",
              "</style>\n",
              "<table border=\"1\" class=\"dataframe\">\n",
              "  <thead>\n",
              "    <tr style=\"text-align: right;\">\n",
              "      <th></th>\n",
              "      <th>Logistic</th>\n",
              "      <th>Tree</th>\n",
              "      <th>kNN</th>\n",
              "      <th>LinearKernel</th>\n",
              "    </tr>\n",
              "  </thead>\n",
              "  <tbody>\n",
              "    <tr>\n",
              "      <th>Accuracy</th>\n",
              "      <td>0.953216</td>\n",
              "      <td>0.912281</td>\n",
              "      <td>0.964912</td>\n",
              "      <td>0.959064</td>\n",
              "    </tr>\n",
              "    <tr>\n",
              "      <th>Precision</th>\n",
              "      <td>0.945608</td>\n",
              "      <td>0.901627</td>\n",
              "      <td>0.965425</td>\n",
              "      <td>0.980952</td>\n",
              "    </tr>\n",
              "    <tr>\n",
              "      <th>Recall</th>\n",
              "      <td>0.956349</td>\n",
              "      <td>0.917328</td>\n",
              "      <td>0.958995</td>\n",
              "      <td>0.953704</td>\n",
              "    </tr>\n",
              "    <tr>\n",
              "      <th>F1</th>\n",
              "      <td>0.950363</td>\n",
              "      <td>0.907724</td>\n",
              "      <td>0.962045</td>\n",
              "      <td>0.967136</td>\n",
              "    </tr>\n",
              "  </tbody>\n",
              "</table>\n",
              "</div>\n",
              "      <button class=\"colab-df-convert\" onclick=\"convertToInteractive('df-d2f95108-1311-4733-b214-3697428625d9')\"\n",
              "              title=\"Convert this dataframe to an interactive table.\"\n",
              "              style=\"display:none;\">\n",
              "        \n",
              "  <svg xmlns=\"http://www.w3.org/2000/svg\" height=\"24px\"viewBox=\"0 0 24 24\"\n",
              "       width=\"24px\">\n",
              "    <path d=\"M0 0h24v24H0V0z\" fill=\"none\"/>\n",
              "    <path d=\"M18.56 5.44l.94 2.06.94-2.06 2.06-.94-2.06-.94-.94-2.06-.94 2.06-2.06.94zm-11 1L8.5 8.5l.94-2.06 2.06-.94-2.06-.94L8.5 2.5l-.94 2.06-2.06.94zm10 10l.94 2.06.94-2.06 2.06-.94-2.06-.94-.94-2.06-.94 2.06-2.06.94z\"/><path d=\"M17.41 7.96l-1.37-1.37c-.4-.4-.92-.59-1.43-.59-.52 0-1.04.2-1.43.59L10.3 9.45l-7.72 7.72c-.78.78-.78 2.05 0 2.83L4 21.41c.39.39.9.59 1.41.59.51 0 1.02-.2 1.41-.59l7.78-7.78 2.81-2.81c.8-.78.8-2.07 0-2.86zM5.41 20L4 18.59l7.72-7.72 1.47 1.35L5.41 20z\"/>\n",
              "  </svg>\n",
              "      </button>\n",
              "      \n",
              "  <style>\n",
              "    .colab-df-container {\n",
              "      display:flex;\n",
              "      flex-wrap:wrap;\n",
              "      gap: 12px;\n",
              "    }\n",
              "\n",
              "    .colab-df-convert {\n",
              "      background-color: #E8F0FE;\n",
              "      border: none;\n",
              "      border-radius: 50%;\n",
              "      cursor: pointer;\n",
              "      display: none;\n",
              "      fill: #1967D2;\n",
              "      height: 32px;\n",
              "      padding: 0 0 0 0;\n",
              "      width: 32px;\n",
              "    }\n",
              "\n",
              "    .colab-df-convert:hover {\n",
              "      background-color: #E2EBFA;\n",
              "      box-shadow: 0px 1px 2px rgba(60, 64, 67, 0.3), 0px 1px 3px 1px rgba(60, 64, 67, 0.15);\n",
              "      fill: #174EA6;\n",
              "    }\n",
              "\n",
              "    [theme=dark] .colab-df-convert {\n",
              "      background-color: #3B4455;\n",
              "      fill: #D2E3FC;\n",
              "    }\n",
              "\n",
              "    [theme=dark] .colab-df-convert:hover {\n",
              "      background-color: #434B5C;\n",
              "      box-shadow: 0px 1px 3px 1px rgba(0, 0, 0, 0.15);\n",
              "      filter: drop-shadow(0px 1px 2px rgba(0, 0, 0, 0.3));\n",
              "      fill: #FFFFFF;\n",
              "    }\n",
              "  </style>\n",
              "\n",
              "      <script>\n",
              "        const buttonEl =\n",
              "          document.querySelector('#df-d2f95108-1311-4733-b214-3697428625d9 button.colab-df-convert');\n",
              "        buttonEl.style.display =\n",
              "          google.colab.kernel.accessAllowed ? 'block' : 'none';\n",
              "\n",
              "        async function convertToInteractive(key) {\n",
              "          const element = document.querySelector('#df-d2f95108-1311-4733-b214-3697428625d9');\n",
              "          const dataTable =\n",
              "            await google.colab.kernel.invokeFunction('convertToInteractive',\n",
              "                                                     [key], {});\n",
              "          if (!dataTable) return;\n",
              "\n",
              "          const docLinkHtml = 'Like what you see? Visit the ' +\n",
              "            '<a target=\"_blank\" href=https://colab.research.google.com/notebooks/data_table.ipynb>data table notebook</a>'\n",
              "            + ' to learn more about interactive tables.';\n",
              "          element.innerHTML = '';\n",
              "          dataTable['output_type'] = 'display_data';\n",
              "          await google.colab.output.renderOutput(dataTable, element);\n",
              "          const docLink = document.createElement('div');\n",
              "          docLink.innerHTML = docLinkHtml;\n",
              "          element.appendChild(docLink);\n",
              "        }\n",
              "      </script>\n",
              "    </div>\n",
              "  </div>\n",
              "  "
            ]
          },
          "metadata": {},
          "execution_count": 19
        }
      ]
    },
    {
      "cell_type": "markdown",
      "source": [
        "#Task 2. \n",
        "\n",
        "*   1.1.\tPerform SVM algorithm to **Iris dataset** using **linear kernel**.\n",
        "*   1.2.\tCompare the obtained results in 1.1 with SVM using other kernels (**Polynomial Kernel, Gaussian Kernel, Sigmoid Kernel, Radial Basis Function Kernel**). Some metrics could be used: accuracy, precision, recall, f1 measures\n",
        "\n",
        "\n",
        "\n"
      ],
      "metadata": {
        "id": "S43IoUT-0OQq"
      }
    },
    {
      "cell_type": "code",
      "source": [
        "# code\n",
        "# load the MNIST digits dataset\n",
        "iris = datasets.load_iris()\n",
        "X = iris.data\n",
        "y = iris.target\n",
        "X_train, X_test, y_train, y_test = train_test_split(X, y, test_size=0.3, random_state=1)\n",
        "clf = svm.SVC(kernel='linear') # Linear Kernel\n",
        "#Train the model using the training sets\n",
        "clf.fit(X_train, y_train)\n",
        "#Predict the response for test dataset\n",
        "y_pred = clf.predict(X_test)\n",
        "Accuracy = metrics.accuracy_score(y_test, y_pred)\n",
        "Precision = metrics.precision_score(y_test, y_pred, average='macro')\n",
        "Recall = metrics.recall_score(y_test, y_pred, average='macro') \n",
        "F1 = metrics.f1_score(y_test, y_pred, average='macro')\n",
        "print(metrics.classification_report(y_test, y_pred))"
      ],
      "metadata": {
        "id": "_xhPpF5b033h",
        "colab": {
          "base_uri": "https://localhost:8080/"
        },
        "outputId": "1b9d4837-92a9-476d-ad83-c73cf90480e6"
      },
      "execution_count": 36,
      "outputs": [
        {
          "output_type": "stream",
          "name": "stdout",
          "text": [
            "              precision    recall  f1-score   support\n",
            "\n",
            "           0       1.00      1.00      1.00        14\n",
            "           1       1.00      1.00      1.00        18\n",
            "           2       1.00      1.00      1.00        13\n",
            "\n",
            "    accuracy                           1.00        45\n",
            "   macro avg       1.00      1.00      1.00        45\n",
            "weighted avg       1.00      1.00      1.00        45\n",
            "\n"
          ]
        }
      ]
    },
    {
      "cell_type": "code",
      "source": [
        "\n",
        "clf = svm.SVC(kernel='poly') # Linear Kernel\n",
        "#Train the model using the training sets\n",
        "clf.fit(X_train, y_train)\n",
        "#Predict the response for test dataset\n",
        "y_pred = clf.predict(X_test)\n",
        "Accuracy_poly = metrics.accuracy_score(y_test, y_pred)\n",
        "Precision_poly = metrics.precision_score(y_test, y_pred, average='macro')\n",
        "Recall_poly = metrics.recall_score(y_test, y_pred, average='macro') \n",
        "F1_poly = metrics.f1_score(y_test, y_pred, average='macro')\n",
        "print(metrics.classification_report(y_test, y_pred))"
      ],
      "metadata": {
        "colab": {
          "base_uri": "https://localhost:8080/"
        },
        "id": "tU807z39u4-M",
        "outputId": "47d942e8-4b0b-48f7-bb86-95981c56398f"
      },
      "execution_count": 37,
      "outputs": [
        {
          "output_type": "stream",
          "name": "stdout",
          "text": [
            "              precision    recall  f1-score   support\n",
            "\n",
            "           0       1.00      1.00      1.00        14\n",
            "           1       1.00      0.94      0.97        18\n",
            "           2       0.93      1.00      0.96        13\n",
            "\n",
            "    accuracy                           0.98        45\n",
            "   macro avg       0.98      0.98      0.98        45\n",
            "weighted avg       0.98      0.98      0.98        45\n",
            "\n"
          ]
        }
      ]
    },
    {
      "cell_type": "code",
      "source": [
        "clf = svm.SVC(kernel='sigmoid') # Linear Kernel\n",
        "#Train the model using the training sets\n",
        "clf.fit(X_train, y_train)\n",
        "#Predict the response for test dataset\n",
        "y_pred = clf.predict(X_test)\n",
        "Accuracy_sig = metrics.accuracy_score(y_test, y_pred)\n",
        "Precision_sig = metrics.precision_score(y_test, y_pred, average='macro')\n",
        "Recall_sig = metrics.recall_score(y_test, y_pred, average='macro') \n",
        "F1_sig = metrics.f1_score(y_test, y_pred, average='macro')\n",
        "print(metrics.classification_report(y_test, y_pred))"
      ],
      "metadata": {
        "colab": {
          "base_uri": "https://localhost:8080/"
        },
        "id": "5gWe5a94v_Wi",
        "outputId": "1003cc3d-b501-4643-a18a-c1706c2c12af"
      },
      "execution_count": 32,
      "outputs": [
        {
          "output_type": "stream",
          "name": "stdout",
          "text": [
            "              precision    recall  f1-score   support\n",
            "\n",
            "           0       0.00      0.00      0.00        14\n",
            "           1       0.00      0.00      0.00        18\n",
            "           2       0.29      1.00      0.45        13\n",
            "\n",
            "    accuracy                           0.29        45\n",
            "   macro avg       0.10      0.33      0.15        45\n",
            "weighted avg       0.08      0.29      0.13        45\n",
            "\n"
          ]
        },
        {
          "output_type": "stream",
          "name": "stderr",
          "text": [
            "/usr/local/lib/python3.9/dist-packages/sklearn/metrics/_classification.py:1344: UndefinedMetricWarning: Precision is ill-defined and being set to 0.0 in labels with no predicted samples. Use `zero_division` parameter to control this behavior.\n",
            "  _warn_prf(average, modifier, msg_start, len(result))\n",
            "/usr/local/lib/python3.9/dist-packages/sklearn/metrics/_classification.py:1344: UndefinedMetricWarning: Precision and F-score are ill-defined and being set to 0.0 in labels with no predicted samples. Use `zero_division` parameter to control this behavior.\n",
            "  _warn_prf(average, modifier, msg_start, len(result))\n",
            "/usr/local/lib/python3.9/dist-packages/sklearn/metrics/_classification.py:1344: UndefinedMetricWarning: Precision and F-score are ill-defined and being set to 0.0 in labels with no predicted samples. Use `zero_division` parameter to control this behavior.\n",
            "  _warn_prf(average, modifier, msg_start, len(result))\n",
            "/usr/local/lib/python3.9/dist-packages/sklearn/metrics/_classification.py:1344: UndefinedMetricWarning: Precision and F-score are ill-defined and being set to 0.0 in labels with no predicted samples. Use `zero_division` parameter to control this behavior.\n",
            "  _warn_prf(average, modifier, msg_start, len(result))\n"
          ]
        }
      ]
    },
    {
      "cell_type": "code",
      "source": [
        "clf = svm.SVC(kernel='rbf') # Linear Kernel\n",
        "#Train the model using the training sets\n",
        "clf.fit(X_train, y_train)\n",
        "#Predict the response for test dataset\n",
        "y_pred = clf.predict(X_test)\n",
        "Accuracy_rbf = metrics.accuracy_score(y_test, y_pred)\n",
        "Precision_rbf = metrics.precision_score(y_test, y_pred, average='macro')\n",
        "Recall_rbf = metrics.recall_score(y_test, y_pred, average='macro') \n",
        "F1_rbf = metrics.f1_score(y_test, y_pred, average='macro')\n",
        "print(metrics.classification_report(y_test, y_pred))"
      ],
      "metadata": {
        "colab": {
          "base_uri": "https://localhost:8080/"
        },
        "id": "_AM0mHGrwJ8G",
        "outputId": "c5ad4d0e-7279-4123-b127-a44397d8a33b"
      },
      "execution_count": 33,
      "outputs": [
        {
          "output_type": "stream",
          "name": "stdout",
          "text": [
            "              precision    recall  f1-score   support\n",
            "\n",
            "           0       1.00      1.00      1.00        14\n",
            "           1       1.00      0.94      0.97        18\n",
            "           2       0.93      1.00      0.96        13\n",
            "\n",
            "    accuracy                           0.98        45\n",
            "   macro avg       0.98      0.98      0.98        45\n",
            "weighted avg       0.98      0.98      0.98        45\n",
            "\n"
          ]
        }
      ]
    },
    {
      "cell_type": "code",
      "source": [
        "d_poly= {'Accuracy': Accuracy_poly, 'Precision':Precision_poly, 'Recall':Recall_poly ,'F1':F1_poly}\n",
        "d_sigmoid = {'Accuracy': Accuracy_sig, 'Precision':Precision_sig, 'Recall':Recall_sig ,'F1':F1_sig}\n",
        "d_rbf = {'Accuracy': Accuracy_rbf, 'Precision':Precision_rbf, 'Recall':Recall_rbf ,'F1':F1_rbf}\n",
        "d_LinearKernel = {'Accuracy': Accuracy, 'Precision':Precision, 'Recall':Recall ,'F1':F1}\n",
        "pd.DataFrame({'Polynomial Kernel':pd.Series(d_poly), 'Sigmoid':pd.Series(d_sigmoid), 'Radial':pd.Series(d_rbf), 'LinearKernel': pd.Series(d_LinearKernel)})"
      ],
      "metadata": {
        "colab": {
          "base_uri": "https://localhost:8080/",
          "height": 175
        },
        "id": "rz73Bbltwbvf",
        "outputId": "7f1ea028-ffd2-4d11-cbf2-c54e0bbd801d"
      },
      "execution_count": 35,
      "outputs": [
        {
          "output_type": "execute_result",
          "data": {
            "text/plain": [
              "           Polynomial Kernel   Sigmoid    Radial  LinearKernel\n",
              "Accuracy            0.977778  0.288889  0.977778      0.977778\n",
              "Precision           0.976190  0.096296  0.976190      0.976190\n",
              "Recall              0.981481  0.333333  0.981481      0.981481\n",
              "F1                  0.978131  0.149425  0.978131      0.978131"
            ],
            "text/html": [
              "\n",
              "  <div id=\"df-1171bc42-51d7-4018-b31d-fbc09637626a\">\n",
              "    <div class=\"colab-df-container\">\n",
              "      <div>\n",
              "<style scoped>\n",
              "    .dataframe tbody tr th:only-of-type {\n",
              "        vertical-align: middle;\n",
              "    }\n",
              "\n",
              "    .dataframe tbody tr th {\n",
              "        vertical-align: top;\n",
              "    }\n",
              "\n",
              "    .dataframe thead th {\n",
              "        text-align: right;\n",
              "    }\n",
              "</style>\n",
              "<table border=\"1\" class=\"dataframe\">\n",
              "  <thead>\n",
              "    <tr style=\"text-align: right;\">\n",
              "      <th></th>\n",
              "      <th>Polynomial Kernel</th>\n",
              "      <th>Sigmoid</th>\n",
              "      <th>Radial</th>\n",
              "      <th>LinearKernel</th>\n",
              "    </tr>\n",
              "  </thead>\n",
              "  <tbody>\n",
              "    <tr>\n",
              "      <th>Accuracy</th>\n",
              "      <td>0.977778</td>\n",
              "      <td>0.288889</td>\n",
              "      <td>0.977778</td>\n",
              "      <td>0.977778</td>\n",
              "    </tr>\n",
              "    <tr>\n",
              "      <th>Precision</th>\n",
              "      <td>0.976190</td>\n",
              "      <td>0.096296</td>\n",
              "      <td>0.976190</td>\n",
              "      <td>0.976190</td>\n",
              "    </tr>\n",
              "    <tr>\n",
              "      <th>Recall</th>\n",
              "      <td>0.981481</td>\n",
              "      <td>0.333333</td>\n",
              "      <td>0.981481</td>\n",
              "      <td>0.981481</td>\n",
              "    </tr>\n",
              "    <tr>\n",
              "      <th>F1</th>\n",
              "      <td>0.978131</td>\n",
              "      <td>0.149425</td>\n",
              "      <td>0.978131</td>\n",
              "      <td>0.978131</td>\n",
              "    </tr>\n",
              "  </tbody>\n",
              "</table>\n",
              "</div>\n",
              "      <button class=\"colab-df-convert\" onclick=\"convertToInteractive('df-1171bc42-51d7-4018-b31d-fbc09637626a')\"\n",
              "              title=\"Convert this dataframe to an interactive table.\"\n",
              "              style=\"display:none;\">\n",
              "        \n",
              "  <svg xmlns=\"http://www.w3.org/2000/svg\" height=\"24px\"viewBox=\"0 0 24 24\"\n",
              "       width=\"24px\">\n",
              "    <path d=\"M0 0h24v24H0V0z\" fill=\"none\"/>\n",
              "    <path d=\"M18.56 5.44l.94 2.06.94-2.06 2.06-.94-2.06-.94-.94-2.06-.94 2.06-2.06.94zm-11 1L8.5 8.5l.94-2.06 2.06-.94-2.06-.94L8.5 2.5l-.94 2.06-2.06.94zm10 10l.94 2.06.94-2.06 2.06-.94-2.06-.94-.94-2.06-.94 2.06-2.06.94z\"/><path d=\"M17.41 7.96l-1.37-1.37c-.4-.4-.92-.59-1.43-.59-.52 0-1.04.2-1.43.59L10.3 9.45l-7.72 7.72c-.78.78-.78 2.05 0 2.83L4 21.41c.39.39.9.59 1.41.59.51 0 1.02-.2 1.41-.59l7.78-7.78 2.81-2.81c.8-.78.8-2.07 0-2.86zM5.41 20L4 18.59l7.72-7.72 1.47 1.35L5.41 20z\"/>\n",
              "  </svg>\n",
              "      </button>\n",
              "      \n",
              "  <style>\n",
              "    .colab-df-container {\n",
              "      display:flex;\n",
              "      flex-wrap:wrap;\n",
              "      gap: 12px;\n",
              "    }\n",
              "\n",
              "    .colab-df-convert {\n",
              "      background-color: #E8F0FE;\n",
              "      border: none;\n",
              "      border-radius: 50%;\n",
              "      cursor: pointer;\n",
              "      display: none;\n",
              "      fill: #1967D2;\n",
              "      height: 32px;\n",
              "      padding: 0 0 0 0;\n",
              "      width: 32px;\n",
              "    }\n",
              "\n",
              "    .colab-df-convert:hover {\n",
              "      background-color: #E2EBFA;\n",
              "      box-shadow: 0px 1px 2px rgba(60, 64, 67, 0.3), 0px 1px 3px 1px rgba(60, 64, 67, 0.15);\n",
              "      fill: #174EA6;\n",
              "    }\n",
              "\n",
              "    [theme=dark] .colab-df-convert {\n",
              "      background-color: #3B4455;\n",
              "      fill: #D2E3FC;\n",
              "    }\n",
              "\n",
              "    [theme=dark] .colab-df-convert:hover {\n",
              "      background-color: #434B5C;\n",
              "      box-shadow: 0px 1px 3px 1px rgba(0, 0, 0, 0.15);\n",
              "      filter: drop-shadow(0px 1px 2px rgba(0, 0, 0, 0.3));\n",
              "      fill: #FFFFFF;\n",
              "    }\n",
              "  </style>\n",
              "\n",
              "      <script>\n",
              "        const buttonEl =\n",
              "          document.querySelector('#df-1171bc42-51d7-4018-b31d-fbc09637626a button.colab-df-convert');\n",
              "        buttonEl.style.display =\n",
              "          google.colab.kernel.accessAllowed ? 'block' : 'none';\n",
              "\n",
              "        async function convertToInteractive(key) {\n",
              "          const element = document.querySelector('#df-1171bc42-51d7-4018-b31d-fbc09637626a');\n",
              "          const dataTable =\n",
              "            await google.colab.kernel.invokeFunction('convertToInteractive',\n",
              "                                                     [key], {});\n",
              "          if (!dataTable) return;\n",
              "\n",
              "          const docLinkHtml = 'Like what you see? Visit the ' +\n",
              "            '<a target=\"_blank\" href=https://colab.research.google.com/notebooks/data_table.ipynb>data table notebook</a>'\n",
              "            + ' to learn more about interactive tables.';\n",
              "          element.innerHTML = '';\n",
              "          dataTable['output_type'] = 'display_data';\n",
              "          await google.colab.output.renderOutput(dataTable, element);\n",
              "          const docLink = document.createElement('div');\n",
              "          docLink.innerHTML = docLinkHtml;\n",
              "          element.appendChild(docLink);\n",
              "        }\n",
              "      </script>\n",
              "    </div>\n",
              "  </div>\n",
              "  "
            ]
          },
          "metadata": {},
          "execution_count": 35
        }
      ]
    },
    {
      "cell_type": "markdown",
      "source": [
        "#Task 3. \n",
        "Compare the performance of selected classification algorithms (Decision Tree, kNN, Logistic Regression) and SVM (using different kernels) with mnist dataset based on accuracy, precision, recall, f1 measures.\n"
      ],
      "metadata": {
        "id": "b52OPWPD2afi"
      }
    },
    {
      "cell_type": "code",
      "source": [
        "mnist = datasets.load_digits()\n",
        "X = mnist.data\n",
        "y = mnist.target\n",
        "X_train, X_test, y_train, y_test = train_test_split(X, y, test_size=0.3, random_state=1)"
      ],
      "metadata": {
        "id": "wK55pDnOy6XP"
      },
      "execution_count": 39,
      "outputs": []
    },
    {
      "cell_type": "code",
      "source": [
        "classifier = LogisticRegression(random_state = 0) \n",
        "classifier.fit(X_train, y_train)\n",
        "\n",
        "y_pred = classifier.predict(X_test)\n",
        "Accuracy_Logistic = metrics.accuracy_score(y_test, y_pred)\n",
        "Precision_Logistic = metrics.precision_score(y_test, y_pred, average='macro')\n",
        "Recall_Logistic = metrics.recall_score(y_test, y_pred, average='macro') \n",
        "F1_Logistic = metrics.f1_score(y_test, y_pred,average='macro')\n",
        "print(metrics.classification_report(y_test, y_pred))"
      ],
      "metadata": {
        "colab": {
          "base_uri": "https://localhost:8080/"
        },
        "id": "Kw7m9iypyGRy",
        "outputId": "2b6d159b-a4a7-48a1-add9-623f9d2af625"
      },
      "execution_count": 40,
      "outputs": [
        {
          "output_type": "stream",
          "name": "stdout",
          "text": [
            "              precision    recall  f1-score   support\n",
            "\n",
            "           0       1.00      1.00      1.00        59\n",
            "           1       0.94      0.98      0.96        49\n",
            "           2       0.94      1.00      0.97        49\n",
            "           3       0.97      0.95      0.96        64\n",
            "           4       0.97      0.98      0.98        61\n",
            "           5       0.96      0.91      0.93        47\n",
            "           6       1.00      1.00      1.00        51\n",
            "           7       0.98      0.95      0.96        57\n",
            "           8       0.96      0.96      0.96        46\n",
            "           9       0.96      0.95      0.96        57\n",
            "\n",
            "    accuracy                           0.97       540\n",
            "   macro avg       0.97      0.97      0.97       540\n",
            "weighted avg       0.97      0.97      0.97       540\n",
            "\n"
          ]
        },
        {
          "output_type": "stream",
          "name": "stderr",
          "text": [
            "/usr/local/lib/python3.9/dist-packages/sklearn/linear_model/_logistic.py:458: ConvergenceWarning: lbfgs failed to converge (status=1):\n",
            "STOP: TOTAL NO. of ITERATIONS REACHED LIMIT.\n",
            "\n",
            "Increase the number of iterations (max_iter) or scale the data as shown in:\n",
            "    https://scikit-learn.org/stable/modules/preprocessing.html\n",
            "Please also refer to the documentation for alternative solver options:\n",
            "    https://scikit-learn.org/stable/modules/linear_model.html#logistic-regression\n",
            "  n_iter_i = _check_optimize_result(\n"
          ]
        }
      ]
    },
    {
      "cell_type": "code",
      "source": [
        "decision_tree = tree.DecisionTreeClassifier(random_state=0)\n",
        "decision_tree.fit(X_train, y_train)\n",
        "y_pred = decision_tree.predict(X_test)\n",
        "Accuracy_Tree = metrics.accuracy_score(y_test, y_pred)\n",
        "Precision_Tree = metrics.precision_score(y_test, y_pred, average='macro')\n",
        "Recall_Tree = metrics.recall_score(y_test, y_pred, average='macro') \n",
        "F1_Tree = metrics.f1_score(y_test, y_pred,average='macro')\n",
        "print(metrics.classification_report(y_test, y_pred))"
      ],
      "metadata": {
        "colab": {
          "base_uri": "https://localhost:8080/"
        },
        "id": "gZgGYdIYykQX",
        "outputId": "13d5e5c4-b0b1-4545-d046-4db3e10bc3fc"
      },
      "execution_count": 41,
      "outputs": [
        {
          "output_type": "stream",
          "name": "stdout",
          "text": [
            "              precision    recall  f1-score   support\n",
            "\n",
            "           0       1.00      0.92      0.96        59\n",
            "           1       0.85      0.92      0.88        49\n",
            "           2       0.85      0.90      0.87        49\n",
            "           3       0.92      0.77      0.84        64\n",
            "           4       0.93      0.82      0.87        61\n",
            "           5       0.86      0.94      0.90        47\n",
            "           6       0.98      0.92      0.95        51\n",
            "           7       0.84      0.89      0.86        57\n",
            "           8       0.71      0.80      0.76        46\n",
            "           9       0.69      0.75      0.72        57\n",
            "\n",
            "    accuracy                           0.86       540\n",
            "   macro avg       0.86      0.86      0.86       540\n",
            "weighted avg       0.87      0.86      0.86       540\n",
            "\n"
          ]
        }
      ]
    },
    {
      "cell_type": "code",
      "source": [
        "k_range = range(1, 30, 2)\n",
        "accs =[ ]\n",
        "precision= [ ]\n",
        "recalls = []\n",
        "f1measure = [ ]\n",
        "for i in k_range:\n",
        "  kNM = KNeighborsClassifier(n_neighbors=i);\n",
        "  kNM.fit(X_train, y_train)\n",
        "  y_pred = kNM.predict(X_test)\n",
        "  accs.append(metrics.accuracy_score(y_test, y_pred))\n",
        "  precision.append(metrics.precision_score(y_test, y_pred, average='macro'))\n",
        "  recalls.append(metrics.recall_score(y_test, y_pred, average='macro'))\n",
        "  f1measure.append(metrics.f1_score(y_test, y_pred, average='macro'))\n",
        "print(metrics.classification_report(y_test, y_pred))"
      ],
      "metadata": {
        "colab": {
          "base_uri": "https://localhost:8080/"
        },
        "id": "E5_gVm_Xyttw",
        "outputId": "524523a5-7b3e-4c90-d4ac-cd8a7f763dd4"
      },
      "execution_count": 42,
      "outputs": [
        {
          "output_type": "stream",
          "name": "stdout",
          "text": [
            "              precision    recall  f1-score   support\n",
            "\n",
            "           0       1.00      0.98      0.99        59\n",
            "           1       0.94      0.98      0.96        49\n",
            "           2       0.98      0.98      0.98        49\n",
            "           3       0.98      0.95      0.97        64\n",
            "           4       0.98      1.00      0.99        61\n",
            "           5       0.96      0.98      0.97        47\n",
            "           6       0.98      1.00      0.99        51\n",
            "           7       0.90      1.00      0.95        57\n",
            "           8       0.95      0.91      0.93        46\n",
            "           9       0.98      0.88      0.93        57\n",
            "\n",
            "    accuracy                           0.97       540\n",
            "   macro avg       0.97      0.97      0.97       540\n",
            "weighted avg       0.97      0.97      0.97       540\n",
            "\n"
          ]
        }
      ]
    },
    {
      "cell_type": "code",
      "source": [
        "clf = svm.SVC(kernel='linear') # Linear Kernel\n",
        "#Train the model using the training sets\n",
        "clf.fit(X_train, y_train)\n",
        "#Predict the response for test dataset\n",
        "y_pred = clf.predict(X_test)\n",
        "Accuracy = metrics.accuracy_score(y_test, y_pred)\n",
        "Precision = metrics.precision_score(y_test, y_pred, average='macro')\n",
        "Recall = metrics.recall_score(y_test, y_pred, average='macro') \n",
        "F1 = metrics.f1_score(y_test, y_pred, average='macro')\n",
        "print(metrics.classification_report(y_test, y_pred))"
      ],
      "metadata": {
        "colab": {
          "base_uri": "https://localhost:8080/"
        },
        "id": "UPHSzGlQy21A",
        "outputId": "73805afd-85bf-4b9c-f8ae-000b3c464781"
      },
      "execution_count": 43,
      "outputs": [
        {
          "output_type": "stream",
          "name": "stdout",
          "text": [
            "              precision    recall  f1-score   support\n",
            "\n",
            "           0       1.00      1.00      1.00        59\n",
            "           1       0.98      1.00      0.99        49\n",
            "           2       1.00      1.00      1.00        49\n",
            "           3       0.98      0.98      0.98        64\n",
            "           4       1.00      0.98      0.99        61\n",
            "           5       0.96      0.98      0.97        47\n",
            "           6       1.00      1.00      1.00        51\n",
            "           7       1.00      0.98      0.99        57\n",
            "           8       0.96      0.93      0.95        46\n",
            "           9       0.93      0.95      0.94        57\n",
            "\n",
            "    accuracy                           0.98       540\n",
            "   macro avg       0.98      0.98      0.98       540\n",
            "weighted avg       0.98      0.98      0.98       540\n",
            "\n"
          ]
        }
      ]
    },
    {
      "cell_type": "code",
      "source": [
        "clf = svm.SVC(kernel='rbf') # Linear Kernel\n",
        "#Train the model using the training sets\n",
        "clf.fit(X_train, y_train)\n",
        "#Predict the response for test dataset\n",
        "y_pred = clf.predict(X_test)\n",
        "Accuracy_rbf = metrics.accuracy_score(y_test, y_pred)\n",
        "Precision_rbf = metrics.precision_score(y_test, y_pred, average='macro')\n",
        "Recall_rbf = metrics.recall_score(y_test, y_pred, average='macro') \n",
        "F1_rbf = metrics.f1_score(y_test, y_pred, average='macro')\n",
        "print(metrics.classification_report(y_test, y_pred))"
      ],
      "metadata": {
        "colab": {
          "base_uri": "https://localhost:8080/"
        },
        "id": "1Bi8SqZuzbfK",
        "outputId": "a4a6e2bc-46a4-4558-e800-78506a3c2f41"
      },
      "execution_count": 44,
      "outputs": [
        {
          "output_type": "stream",
          "name": "stdout",
          "text": [
            "              precision    recall  f1-score   support\n",
            "\n",
            "           0       1.00      0.98      0.99        59\n",
            "           1       0.98      1.00      0.99        49\n",
            "           2       0.98      1.00      0.99        49\n",
            "           3       1.00      0.98      0.99        64\n",
            "           4       0.98      1.00      0.99        61\n",
            "           5       0.96      0.98      0.97        47\n",
            "           6       1.00      1.00      1.00        51\n",
            "           7       1.00      0.98      0.99        57\n",
            "           8       1.00      0.96      0.98        46\n",
            "           9       0.95      0.96      0.96        57\n",
            "\n",
            "    accuracy                           0.99       540\n",
            "   macro avg       0.99      0.99      0.98       540\n",
            "weighted avg       0.99      0.99      0.99       540\n",
            "\n"
          ]
        }
      ]
    },
    {
      "cell_type": "code",
      "source": [
        "clf = svm.SVC(kernel='sigmoid') # Linear Kernel\n",
        "#Train the model using the training sets\n",
        "clf.fit(X_train, y_train)\n",
        "#Predict the response for test dataset\n",
        "y_pred = clf.predict(X_test)\n",
        "Accuracy_sig = metrics.accuracy_score(y_test, y_pred)\n",
        "Precision_sig = metrics.precision_score(y_test, y_pred, average='macro')\n",
        "Recall_sig = metrics.recall_score(y_test, y_pred, average='macro') \n",
        "F1_sig = metrics.f1_score(y_test, y_pred, average='macro')\n",
        "print(metrics.classification_report(y_test, y_pred))"
      ],
      "metadata": {
        "colab": {
          "base_uri": "https://localhost:8080/"
        },
        "id": "Cbad7DnHzg3e",
        "outputId": "e1c94e75-50a2-46e1-d044-52bbd19c1156"
      },
      "execution_count": 45,
      "outputs": [
        {
          "output_type": "stream",
          "name": "stdout",
          "text": [
            "              precision    recall  f1-score   support\n",
            "\n",
            "           0       0.96      0.93      0.95        59\n",
            "           1       0.78      0.82      0.80        49\n",
            "           2       0.96      0.94      0.95        49\n",
            "           3       0.98      0.89      0.93        64\n",
            "           4       0.90      0.90      0.90        61\n",
            "           5       0.92      0.96      0.94        47\n",
            "           6       0.96      0.98      0.97        51\n",
            "           7       0.87      0.96      0.92        57\n",
            "           8       0.88      0.76      0.81        46\n",
            "           9       0.84      0.89      0.86        57\n",
            "\n",
            "    accuracy                           0.91       540\n",
            "   macro avg       0.91      0.90      0.90       540\n",
            "weighted avg       0.91      0.91      0.91       540\n",
            "\n"
          ]
        }
      ]
    },
    {
      "cell_type": "code",
      "source": [
        "clf = svm.SVC(kernel='poly') # Linear Kernel\n",
        "#Train the model using the training sets\n",
        "clf.fit(X_train, y_train)\n",
        "#Predict the response for test dataset\n",
        "y_pred = clf.predict(X_test)\n",
        "Accuracy_poly = metrics.accuracy_score(y_test, y_pred)\n",
        "Precision_poly = metrics.precision_score(y_test, y_pred, average='macro')\n",
        "Recall_poly = metrics.recall_score(y_test, y_pred, average='macro') \n",
        "F1_poly = metrics.f1_score(y_test, y_pred, average='macro')\n",
        "print(metrics.classification_report(y_test, y_pred))"
      ],
      "metadata": {
        "colab": {
          "base_uri": "https://localhost:8080/"
        },
        "id": "Ng_6wB4izvEN",
        "outputId": "4b82d080-95db-4f35-8103-201729dcc181"
      },
      "execution_count": 46,
      "outputs": [
        {
          "output_type": "stream",
          "name": "stdout",
          "text": [
            "              precision    recall  f1-score   support\n",
            "\n",
            "           0       1.00      0.98      0.99        59\n",
            "           1       0.98      1.00      0.99        49\n",
            "           2       0.98      1.00      0.99        49\n",
            "           3       1.00      0.98      0.99        64\n",
            "           4       0.98      1.00      0.99        61\n",
            "           5       0.96      0.98      0.97        47\n",
            "           6       1.00      1.00      1.00        51\n",
            "           7       1.00      0.98      0.99        57\n",
            "           8       1.00      0.96      0.98        46\n",
            "           9       0.95      0.96      0.96        57\n",
            "\n",
            "    accuracy                           0.99       540\n",
            "   macro avg       0.99      0.99      0.98       540\n",
            "weighted avg       0.99      0.99      0.99       540\n",
            "\n"
          ]
        }
      ]
    },
    {
      "cell_type": "code",
      "source": [
        "d_Logistic = {'Accuracy': Accuracy_Logistic, 'Precision':Precision_Logistic, 'Recall':Recall_Logistic ,'F1':F1_Logistic}\n",
        "d_Tree = {'Accuracy': Accuracy_Tree, 'Precision':Precision_Tree, 'Recall':Recall_Tree ,'F1':F1_Tree}\n",
        "d_kNN = {'Accuracy': max(accs), 'Precision':max(precision), 'Recall':max(recalls) ,'F1':max(f1measure)}\n",
        "d_poly= {'Accuracy': Accuracy_poly, 'Precision':Precision_poly, 'Recall':Recall_poly ,'F1':F1_poly}\n",
        "d_sigmoid = {'Accuracy': Accuracy_sig, 'Precision':Precision_sig, 'Recall':Recall_sig ,'F1':F1_sig}\n",
        "d_rbf = {'Accuracy': Accuracy_rbf, 'Precision':Precision_rbf, 'Recall':Recall_rbf ,'F1':F1_rbf}\n",
        "d_LinearKernel = {'Accuracy': Accuracy, 'Precision':Precision, 'Recall':Recall ,'F1':F1}\n",
        "pd.DataFrame({'Logistic':pd.Series(d_Logistic), 'Tree':pd.Series(d_Tree), 'kNN':pd.Series(d_kNN),'Polynomial Kernel':pd.Series(d_poly), 'Sigmoid':pd.Series(d_sigmoid), 'Radial':pd.Series(d_rbf), 'LinearKernel': pd.Series(d_LinearKernel)})"
      ],
      "metadata": {
        "colab": {
          "base_uri": "https://localhost:8080/",
          "height": 175
        },
        "id": "QPNNMgZJzxP1",
        "outputId": "2cb9dfb4-235b-471a-b60a-9f67bcd5a83d"
      },
      "execution_count": 47,
      "outputs": [
        {
          "output_type": "execute_result",
          "data": {
            "text/plain": [
              "           Logistic      Tree       kNN  Polynomial Kernel   Sigmoid  \\\n",
              "Accuracy   0.968519  0.859259  0.990741           0.985185  0.905556   \n",
              "Precision  0.967766  0.862873  0.991622           0.985048  0.905594   \n",
              "Recall     0.968248  0.862809  0.990208           0.985004  0.903793   \n",
              "F1         0.967788  0.860622  0.990817           0.984912  0.903620   \n",
              "\n",
              "             Radial  LinearKernel  \n",
              "Accuracy   0.985185      0.981481  \n",
              "Precision  0.985048      0.980930  \n",
              "Recall     0.985004      0.981131  \n",
              "F1         0.984912      0.980977  "
            ],
            "text/html": [
              "\n",
              "  <div id=\"df-93ed78a3-6074-42c4-9a39-4eda8fce1001\">\n",
              "    <div class=\"colab-df-container\">\n",
              "      <div>\n",
              "<style scoped>\n",
              "    .dataframe tbody tr th:only-of-type {\n",
              "        vertical-align: middle;\n",
              "    }\n",
              "\n",
              "    .dataframe tbody tr th {\n",
              "        vertical-align: top;\n",
              "    }\n",
              "\n",
              "    .dataframe thead th {\n",
              "        text-align: right;\n",
              "    }\n",
              "</style>\n",
              "<table border=\"1\" class=\"dataframe\">\n",
              "  <thead>\n",
              "    <tr style=\"text-align: right;\">\n",
              "      <th></th>\n",
              "      <th>Logistic</th>\n",
              "      <th>Tree</th>\n",
              "      <th>kNN</th>\n",
              "      <th>Polynomial Kernel</th>\n",
              "      <th>Sigmoid</th>\n",
              "      <th>Radial</th>\n",
              "      <th>LinearKernel</th>\n",
              "    </tr>\n",
              "  </thead>\n",
              "  <tbody>\n",
              "    <tr>\n",
              "      <th>Accuracy</th>\n",
              "      <td>0.968519</td>\n",
              "      <td>0.859259</td>\n",
              "      <td>0.990741</td>\n",
              "      <td>0.985185</td>\n",
              "      <td>0.905556</td>\n",
              "      <td>0.985185</td>\n",
              "      <td>0.981481</td>\n",
              "    </tr>\n",
              "    <tr>\n",
              "      <th>Precision</th>\n",
              "      <td>0.967766</td>\n",
              "      <td>0.862873</td>\n",
              "      <td>0.991622</td>\n",
              "      <td>0.985048</td>\n",
              "      <td>0.905594</td>\n",
              "      <td>0.985048</td>\n",
              "      <td>0.980930</td>\n",
              "    </tr>\n",
              "    <tr>\n",
              "      <th>Recall</th>\n",
              "      <td>0.968248</td>\n",
              "      <td>0.862809</td>\n",
              "      <td>0.990208</td>\n",
              "      <td>0.985004</td>\n",
              "      <td>0.903793</td>\n",
              "      <td>0.985004</td>\n",
              "      <td>0.981131</td>\n",
              "    </tr>\n",
              "    <tr>\n",
              "      <th>F1</th>\n",
              "      <td>0.967788</td>\n",
              "      <td>0.860622</td>\n",
              "      <td>0.990817</td>\n",
              "      <td>0.984912</td>\n",
              "      <td>0.903620</td>\n",
              "      <td>0.984912</td>\n",
              "      <td>0.980977</td>\n",
              "    </tr>\n",
              "  </tbody>\n",
              "</table>\n",
              "</div>\n",
              "      <button class=\"colab-df-convert\" onclick=\"convertToInteractive('df-93ed78a3-6074-42c4-9a39-4eda8fce1001')\"\n",
              "              title=\"Convert this dataframe to an interactive table.\"\n",
              "              style=\"display:none;\">\n",
              "        \n",
              "  <svg xmlns=\"http://www.w3.org/2000/svg\" height=\"24px\"viewBox=\"0 0 24 24\"\n",
              "       width=\"24px\">\n",
              "    <path d=\"M0 0h24v24H0V0z\" fill=\"none\"/>\n",
              "    <path d=\"M18.56 5.44l.94 2.06.94-2.06 2.06-.94-2.06-.94-.94-2.06-.94 2.06-2.06.94zm-11 1L8.5 8.5l.94-2.06 2.06-.94-2.06-.94L8.5 2.5l-.94 2.06-2.06.94zm10 10l.94 2.06.94-2.06 2.06-.94-2.06-.94-.94-2.06-.94 2.06-2.06.94z\"/><path d=\"M17.41 7.96l-1.37-1.37c-.4-.4-.92-.59-1.43-.59-.52 0-1.04.2-1.43.59L10.3 9.45l-7.72 7.72c-.78.78-.78 2.05 0 2.83L4 21.41c.39.39.9.59 1.41.59.51 0 1.02-.2 1.41-.59l7.78-7.78 2.81-2.81c.8-.78.8-2.07 0-2.86zM5.41 20L4 18.59l7.72-7.72 1.47 1.35L5.41 20z\"/>\n",
              "  </svg>\n",
              "      </button>\n",
              "      \n",
              "  <style>\n",
              "    .colab-df-container {\n",
              "      display:flex;\n",
              "      flex-wrap:wrap;\n",
              "      gap: 12px;\n",
              "    }\n",
              "\n",
              "    .colab-df-convert {\n",
              "      background-color: #E8F0FE;\n",
              "      border: none;\n",
              "      border-radius: 50%;\n",
              "      cursor: pointer;\n",
              "      display: none;\n",
              "      fill: #1967D2;\n",
              "      height: 32px;\n",
              "      padding: 0 0 0 0;\n",
              "      width: 32px;\n",
              "    }\n",
              "\n",
              "    .colab-df-convert:hover {\n",
              "      background-color: #E2EBFA;\n",
              "      box-shadow: 0px 1px 2px rgba(60, 64, 67, 0.3), 0px 1px 3px 1px rgba(60, 64, 67, 0.15);\n",
              "      fill: #174EA6;\n",
              "    }\n",
              "\n",
              "    [theme=dark] .colab-df-convert {\n",
              "      background-color: #3B4455;\n",
              "      fill: #D2E3FC;\n",
              "    }\n",
              "\n",
              "    [theme=dark] .colab-df-convert:hover {\n",
              "      background-color: #434B5C;\n",
              "      box-shadow: 0px 1px 3px 1px rgba(0, 0, 0, 0.15);\n",
              "      filter: drop-shadow(0px 1px 2px rgba(0, 0, 0, 0.3));\n",
              "      fill: #FFFFFF;\n",
              "    }\n",
              "  </style>\n",
              "\n",
              "      <script>\n",
              "        const buttonEl =\n",
              "          document.querySelector('#df-93ed78a3-6074-42c4-9a39-4eda8fce1001 button.colab-df-convert');\n",
              "        buttonEl.style.display =\n",
              "          google.colab.kernel.accessAllowed ? 'block' : 'none';\n",
              "\n",
              "        async function convertToInteractive(key) {\n",
              "          const element = document.querySelector('#df-93ed78a3-6074-42c4-9a39-4eda8fce1001');\n",
              "          const dataTable =\n",
              "            await google.colab.kernel.invokeFunction('convertToInteractive',\n",
              "                                                     [key], {});\n",
              "          if (!dataTable) return;\n",
              "\n",
              "          const docLinkHtml = 'Like what you see? Visit the ' +\n",
              "            '<a target=\"_blank\" href=https://colab.research.google.com/notebooks/data_table.ipynb>data table notebook</a>'\n",
              "            + ' to learn more about interactive tables.';\n",
              "          element.innerHTML = '';\n",
              "          dataTable['output_type'] = 'display_data';\n",
              "          await google.colab.output.renderOutput(dataTable, element);\n",
              "          const docLink = document.createElement('div');\n",
              "          docLink.innerHTML = docLinkHtml;\n",
              "          element.appendChild(docLink);\n",
              "        }\n",
              "      </script>\n",
              "    </div>\n",
              "  </div>\n",
              "  "
            ]
          },
          "metadata": {},
          "execution_count": 47
        }
      ]
    },
    {
      "cell_type": "markdown",
      "source": [
        "#Task 4. \n",
        "Compare the performance of selected classification algorithms (Decision Tree, kNN, Logistic Regression) and SVM (using different kernels) with **credit card dataset** based on accuracy, precision, recall, f1 measures.\n",
        "\n",
        "*   Give some comments on the obtained results\n",
        "*   Identify issues with dataset, and propose the solutions to these issues\n",
        "\n"
      ],
      "metadata": {
        "id": "Z5pp7_h-aP2u"
      }
    },
    {
      "cell_type": "code",
      "source": [
        "# code\n",
        "# X_train, X_test, y_train, y_test = train_test_split(X, y, train_size=0.3 , test_size=0.05, shuffle=True)  "
      ],
      "metadata": {
        "id": "Rw_-8FIf2KxW"
      },
      "execution_count": null,
      "outputs": []
    },
    {
      "cell_type": "markdown",
      "source": [
        "#Finally,\n",
        "Save a copy in your Github. Remember renaming the notebook."
      ],
      "metadata": {
        "id": "Ok7RGkea_b7n"
      }
    }
  ]
}