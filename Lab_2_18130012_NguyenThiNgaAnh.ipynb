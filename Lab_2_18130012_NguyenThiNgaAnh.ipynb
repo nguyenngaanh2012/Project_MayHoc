{
  "nbformat": 4,
  "nbformat_minor": 2,
  "metadata": {
    "colab": {
      "provenance": []
    },
    "kernelspec": {
      "name": "python3",
      "display_name": "Python 3"
    },
    "language_info": {
      "name": "python"
    }
  },
  "cells": [
    {
      "cell_type": "markdown",
      "source": [
        "# Lab #2\n",
        "This lab is the first step to get farmilliar with some common Machine Learning libraries, named ***Pandas*** and ***Matlotlib***. \n",
        "\n",
        "*   **Deadline: 23:59, 27/02/2023**\n",
        "\n"
      ],
      "metadata": {
        "id": "LMzehe0sy5wr"
      }
    },
    {
      "cell_type": "markdown",
      "source": [
        "#0. Mount Drive"
      ],
      "metadata": {
        "id": "Pck4yZk8KmyU"
      }
    },
    {
      "cell_type": "code",
      "execution_count": null,
      "source": [
        "from google.colab import drive\r\n",
        "drive.mount('/content/gdrive')\r\n",
        "%cd '/content/gdrive/MyDrive/???'"
      ],
      "outputs": [],
      "metadata": {
        "id": "4ETTY_7-Kox9"
      }
    },
    {
      "cell_type": "markdown",
      "source": [
        "#1. Import libraries"
      ],
      "metadata": {
        "id": "H4nJmxp9zGX4"
      }
    },
    {
      "cell_type": "code",
      "execution_count": null,
      "source": [
        "# code\r\n",
        "import numpy as np"
      ],
      "outputs": [],
      "metadata": {
        "id": "DoVWQ8AEyc-C"
      }
    },
    {
      "cell_type": "markdown",
      "source": [
        "#2. Load dataset\n",
        "\n",
        "*   Load dataset (named ***shopping-data.csv***) using ***read_csv*** from pandas\n",
        "*   Then, display 10 last examples\n"
      ],
      "metadata": {
        "id": "kNv07ARGzOUm"
      }
    },
    {
      "cell_type": "code",
      "execution_count": null,
      "source": [
        "# code\r\n",
        "import pandas as pd\r\n",
        "\r\n",
        "\r\n",
        "dataset = pd.read_csv('lab_2/shopping-data')\r\n",
        "\r\n",
        "\r\n",
        "print(dataset.tail(10))\r\n"
      ],
      "outputs": [],
      "metadata": {
        "id": "sOsg77IBzEyo"
      }
    },
    {
      "cell_type": "markdown",
      "source": [
        "#3. Show statistics of the given dataset "
      ],
      "metadata": {
        "id": "S43IoUT-0OQq"
      }
    },
    {
      "cell_type": "code",
      "execution_count": null,
      "source": [
        "# code\r\n",
        "import pandas as pd\r\n",
        "\r\n",
        "\r\n",
        "df = pd.read_csv('lab_2/shopping-data')\r\n",
        "\r\n",
        "\r\n",
        "mean = df.mean()\r\n",
        "median = df.median()\r\n",
        "mode = df.mode()\r\n",
        "std_dev = df.std()\r\n",
        "variance = df.var()\r\n",
        "range = df.max() - df.min()\r\n",
        "\r\n",
        "\r\n",
        "print(\"Mean:\\n\", mean)\r\n",
        "print(\"Median:\\n\", median)\r\n",
        "print(\"Mode:\\n\", mode)\r\n",
        "print(\"Standard Deviation:\\n\", std_dev)\r\n",
        "print(\"Variance:\\n\", variance)\r\n",
        "print(\"Range:\\n\", range)\r\n",
        "\r\n"
      ],
      "outputs": [],
      "metadata": {
        "id": "_xhPpF5b033h"
      }
    },
    {
      "cell_type": "markdown",
      "source": [
        "#4. Sort dataset by ***Age*** "
      ],
      "metadata": {
        "id": "Rti2y0Wz2KY9"
      }
    },
    {
      "cell_type": "code",
      "execution_count": null,
      "source": [
        "# code\r\n",
        "import pandas as pd\r\n",
        "\r\n",
        "\r\n",
        "df = pd.read_csv('lab_2/shopping-data')\r\n",
        "\r\n",
        "\r\n",
        "df_sorted = df.sort_values('Age')\r\n",
        "\r\n",
        "\r\n",
        "print(df_sorted)\r\n"
      ],
      "outputs": [],
      "metadata": {
        "id": "13LkkfpS2ZUR"
      }
    },
    {
      "cell_type": "markdown",
      "source": [
        "#5. Group dataset by ***Gender*** and ***Age***"
      ],
      "metadata": {
        "id": "b52OPWPD2afi"
      }
    },
    {
      "cell_type": "code",
      "execution_count": null,
      "source": [
        "# code\r\n",
        "import pandas as pd\r\n",
        "\r\n",
        "\r\n",
        "df = pd.read_csv('lab_2/shopping-data')\r\n",
        "\r\n",
        "\r\n",
        "df_grouped = df.groupby(['Gender', 'Age'])\r\n",
        "\r\n",
        "\r\n",
        "for group, data in df_grouped:\r\n",
        "    print(group)\r\n",
        "    print(data)\r\n",
        "\r\n"
      ],
      "outputs": [],
      "metadata": {
        "id": "Rw_-8FIf2KxW"
      }
    },
    {
      "cell_type": "markdown",
      "source": [
        "#6. Use scatter plot to represent the relationship between ***Age*** and ***Annual Income***\n",
        "Rememer adding titles, xlabel, ylabel, ... to the plot"
      ],
      "metadata": {
        "id": "MVzSk4l505E0"
      }
    },
    {
      "cell_type": "code",
      "execution_count": null,
      "source": [
        "# code\r\n",
        "import pandas as pd\r\n",
        "import matplotlib.pyplot as plt\r\n",
        "\r\n",
        "\r\n",
        "df = pd.read_csv('lab_2/shopping-data')\r\n",
        "\r\n",
        "\r\n",
        "plt.scatter(df['Age'], df['Annual Income'])\r\n",
        "\r\n",
        "\r\n",
        "plt.title('Relationship between Age and Annual Income')\r\n",
        "plt.xlabel('Age')\r\n",
        "plt.ylabel('Annual Income')\r\n",
        "\r\n",
        "\r\n",
        "plt.show()\r\n",
        "\r\n"
      ],
      "outputs": [],
      "metadata": {
        "id": "W_1v_ivR2f6D"
      }
    },
    {
      "cell_type": "markdown",
      "source": [
        "#7. Use histogram plot to represent the distribution of ***Age***"
      ],
      "metadata": {
        "id": "oJwsJwj03iD_"
      }
    },
    {
      "cell_type": "code",
      "execution_count": null,
      "source": [
        "#code\r\n",
        "import pandas as pd\r\n",
        "import matplotlib.pyplot as plt\r\n",
        "\r\n",
        "\r\n",
        "df = pd.read_csv('lab_2/shopping-data')\r\n",
        "\r\n",
        "\r\n",
        "plt.hist(df['Age'], bins=10)\r\n",
        "\r\n",
        "\r\n",
        "plt.title('Distribution of Age')\r\n",
        "plt.xlabel('Age')\r\n",
        "plt.ylabel('Frequency')\r\n",
        "\r\n",
        "\r\n",
        "plt.show()\r\n",
        "\r\n"
      ],
      "outputs": [],
      "metadata": {
        "id": "3KA4BgbB3tbs"
      }
    },
    {
      "cell_type": "markdown",
      "source": [
        "#8. Finally,\n",
        "Save a copy in your Github. Remember renaming the notebook."
      ],
      "metadata": {
        "id": "Ok7RGkea_b7n"
      }
    }
  ]
}